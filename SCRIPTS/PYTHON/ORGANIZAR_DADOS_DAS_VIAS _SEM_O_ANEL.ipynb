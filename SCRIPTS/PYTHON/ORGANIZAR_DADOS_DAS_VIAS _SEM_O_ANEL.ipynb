{
 "cells": [
  {
   "cell_type": "markdown",
   "id": "cc5a502c",
   "metadata": {},
   "source": [
    "# ORGANIZANDO OS DADOS DA MALHA VIÁRIA DE VIÇOSA - SEM O ANEL"
   ]
  },
  {
   "cell_type": "markdown",
   "id": "094a201c",
   "metadata": {},
   "source": [
    "### IMPORTANDO O PACOTE psycopg2 QUE CONECTA O PYTHON COM O POSTGRE-SQL"
   ]
  },
  {
   "cell_type": "code",
   "execution_count": null,
   "id": "d3540a49",
   "metadata": {},
   "outputs": [],
   "source": [
    "import psycopg2 as pg\n",
    "#import pandas as pd"
   ]
  },
  {
   "cell_type": "markdown",
   "id": "2ad77a30",
   "metadata": {},
   "source": [
    "### CONECTANDO AO BANCO DE DADOS"
   ]
  },
  {
   "cell_type": "code",
   "execution_count": null,
   "id": "d336c787",
   "metadata": {},
   "outputs": [],
   "source": [
    "con = pg.connect(host='localhost', \n",
    "                database='dissertacao_artigo1',\n",
    "                user='postgres', \n",
    "                password='admin')\n",
    "\n",
    "cur = con.cursor() #CRIANDO UMA INSTÂNCIA PARA EXECUTAR COMANDOS EM SQL\n",
    "\n",
    "# OBS: O servidor hospedado na máquina local será conectado no banco de dados nomeado DISSERTAÇÃO, que possui usuário postgres e senha admin."
   ]
  },
  {
   "cell_type": "markdown",
   "id": "c777dc58",
   "metadata": {},
   "source": [
    "### VENDO QUANTOS GRAFOS A MALHA POSSUI"
   ]
  },
  {
   "cell_type": "code",
   "execution_count": null,
   "id": "f65d1e3b",
   "metadata": {},
   "outputs": [],
   "source": [
    "tabela_grafos = 'vias_grafos' #TABELA COM OS GRAFOS\n",
    "sql = f'select max(id) from {tabela_grafos}' #COMANDO EM SQL A SER EXECUTADO\n",
    "cur.execute(sql) #EXECUTANDO O COMANDO CRIADO\n",
    "dados_consultados = cur.fetchall() #RETORNANDO OS DADOS\n",
    "id_max = dados_consultados[0][0] #ID MÁXIMO DA MALHA"
   ]
  },
  {
   "cell_type": "markdown",
   "id": "8076517d",
   "metadata": {
    "scrolled": true
   },
   "source": [
    "### ATRIBUINDO NOME DAS VIAS PARA O BANCO DE DADOS DOS GRAFOS"
   ]
  },
  {
   "cell_type": "code",
   "execution_count": null,
   "id": "3af3b08c",
   "metadata": {
    "scrolled": true
   },
   "outputs": [],
   "source": [
    "#NOME DAS TABELAS E DOS ATRIBUTOS DA CONSULTA:\n",
    "tabela_grafos = 'vias_grafos' #NOME DE TABELA QUE CONTÉM O SHP DOS GRAFOS DA MALHA\n",
    "abr_grafos = 'vg' #ABREVIAÇÃO PARA A TABELA QUE CONTÉM O SHP DOS GRAFOS DA MALHA\n",
    "atributo_dados_grafo = 'nome_rua' #NOME DA COLUNA (EM BRANCO) QUE SERÃO ADICIONADAS AS INFORMAÇÕES DE NOME DAS RUAS NA TABELA DO SHP DOS GRAFOS\n",
    "tabela_dados = 'vias_nomeruas' #NOME DE TABELA QUE CONTÉM O SHP DOS NOMES DAS RUAS DA MALHA\n",
    "abr_dados = 'vnr' #ABREVIAÇÃO PARA A TABELA QUE CONTÉM O SHP DOS NOMES DAS RUAS DA MALHA\n",
    "atributo_dados = 'nome_rua' #NOME DA COLUNA QUE CONTEM AS INFORMAÇÕES DOS NOMES DAS RUAS NA TABELA DO SHP DOS NOMES DAS RUAS DA MALHA\n",
    "atributo_comp_grafo = 'comp_nome_rua' #NOME DA COLUNA QUE CONTEM AS INFORMAÇÕES DOS COMPRIMENTOS DOS NOMES DAS RUAS NA TABELA DO SHP DOS GRAFOS\n",
    "\n",
    "#ADICIONANDO O NOME DAS RUAS PARA CADA ID DA TABELA DOS GRAFOS DA MALHA\n",
    "\n",
    "for id_i in range(1, id_max + 1): #OS COMANDOS SERÃO EXECUTADOS DO GRAFO DE ID=1 ATÉ O ÚLTIMO GRAFO DA TABELA QUE POSSUI ID = ID_MAX\n",
    "  \n",
    "    sql = f\"SELECT {abr_grafos}.id FROM {tabela_grafos} {abr_grafos}, {tabela_grafos_anel} {abr_grafos_a} WHERE ST_Contains({abr_grafos}.geom, {abr_grafos_a}.geom) and {abr_grafos_a}.id = {id_i}\" #COMANDO EM SQL A SER EXECUTADO. SERÁ SELECIONADO O ID DA TABELA DOS DOS GRAFOS (QUE JÁ ESTÁ COMPLETA).\n",
    "\n",
    "    cur.execute(sql) #EXECUTANDO O COMANDO\n",
    "\n",
    "    dados_consultados = cur.fetchall() #RETORNANDO OS DADOS\n",
    "\n",
    "    lista_dados = [] #CRIANDO UMA LISTA VAZIA, NO QUAL OS DADOS CONSULTADOS SERÃO ADICIONADOS\n",
    "\n",
    "    for dado in dados_consultados: #ADICIONANDO OS RESULTADOS NA LISTA CRIADA\n",
    "        if dado[0] not in lista_dados:\n",
    "            lista_dados.append(dado[0])\n",
    "\n",
    "    lista_dados_str = '' #CRIANDO UMA VARIAVEL NO QUAL A LISTA DE DADOS SERÃO TRANSFORMADA EM UMA STRING DA SEGUINTE FORMA: ATRIBUTO_1; ATRIBUTO_2; ATRIBUTO_3; ... ; ATRIBUTO_n\n",
    "\n",
    "    for dado in lista_dados: #TRANSFORMANDO A LISTA DE DADOS PARA UMA STRING\n",
    "        if dado != lista_dados[len(lista_dados) - 1]:\n",
    "            lista_dados_str = lista_dados_str + dado + '; '\n",
    "        else:\n",
    "            lista_dados_str = lista_dados_str + dado\n",
    "\n",
    "    sql = f'select sum(st_length({abr_dados}.geom)) from {tabela_dados} {abr_dados}, {tabela_grafos} {abr_grafos} where st_contains({abr_grafos}.geom, {abr_dados}.geom) and {abr_grafos}.id = {id_i} group by {abr_dados}.{atributo_dados_grafo}' #COMANDO EM SQL A SER EXECUTADO. SERÁ SELECIONADO O COMPRIMENTO DE VIA DOATRIBUTOS INDICADO DA TABELA DOS SHP DOS ATRIBUTOS, ONDE A GEOMETRIA DOS ELEMENTOS DA TABELA DE ATRIBUTOS ESTÁ CONTIDA NA GEOMETRIA DA TABELA DO GRAFO, PARA O ID DO GRAFO EM ANÁLISE.\n",
    "\n",
    "    cur.execute(sql) #EXECUTANDO O COMANDO\n",
    "\n",
    "    dados_consultados = cur.fetchall() #RETORNANDO OS DADOS\n",
    "\n",
    "    lista_dados = [] #CRIANDO UMA LISTA VAZIA, NO QUAL OS DADOS CONSULTADOS SERÃO ADICIONADOS\n",
    "\n",
    "    for dado in dados_consultados: #ADICIONANDO OS RESULTADOS NA LISTA CRIADA\n",
    "        if dado[0] not in lista_dados:\n",
    "            lista_dados.append(dado[0])\n",
    "\n",
    "    lista_comp_str = '' #CRIANDO UMA VARIAVEL NO QUAL A LISTA DE DADOS DE COMPRIMENTOS SERÃO TRANSFORMADAS EM UMA STRING DA SEGUINTE FORMA: COMP_1; COMP_2; COMP_3; ... ; COMP_n\n",
    "\n",
    "    for dado in lista_dados: #TRANSFORMANDO A LISTA DE DADOS PARA UMA STRING\n",
    "        if dado != lista_dados[len(lista_dados) - 1]:\n",
    "            lista_comp_str = lista_comp_str + str(dado) + '; '\n",
    "        else:\n",
    "            lista_comp_str = lista_comp_str + str(dado)\n",
    "\n",
    "    #ATUALIZANDO A TABELA DO SHP DOS GRAFOS COM AS INFORMAÇÕES DOS ATRIBUTOS OBTIDOS:\n",
    "    \n",
    "    sql = f\"update {tabela_grafos} set {atributo_dados_grafo}='{lista_dados_str}' where id={id_i};\" #COMANDO EM SQL A SER EXECUTADO. SERÁ ATRIBUITO A TABELA DO SHP DOS GRAFOS A STRING ACIMA DE ACORDO COM O ID EM ANÁLISE.\n",
    "    cur.execute(sql) #EXECUTANDO O COMANDO\n",
    "    con.commit() #FINALIZANDO A EXECUÇÃO DO COMANDO\n",
    "    \n",
    "    print(f'ID: {id_i} {atributo_dados_grafo} OK!') #COMANDO DESNECESSÁRIO. APENAS INDICA A FINALIZAÇÃO DAS REPETIÇÕES.\n",
    "    \n",
    "    #ATUALIZANDO A TABELA DO SHP DOS GRAFOS COM AS INFORMAÇÕES DE COMP DE CADA ATRIBUTO:\n",
    "    \n",
    "    sql = f\"update {tabela_grafos} set {atributo_comp_grafo}='{lista_comp_str}' where id={id_i};\" #COMANDO EM SQL A SER EXECUTADO. SERÁ ATRIBUITO A TABELA DO SHP DOS GRAFOS A STRING ACIMA DE ACORDO COM O ID EM ANÁLISE.\n",
    "    cur.execute(sql) #EXECUTANDO O COMANDO\n",
    "    con.commit() #FINALIZANDO A EXECUÇÃO DO COMANDO\n",
    "\n",
    "    print(f'ID: {id_i} {atributo_comp_grafo} OK!') #COMANDO DESNECESSÁRIO. APENAS INDICA A FINALIZAÇÃO DAS REPETIÇÕES.\n"
   ]
  },
  {
   "cell_type": "markdown",
   "id": "5b0e6110",
   "metadata": {},
   "source": [
    "### CONFERINDO A CONSISTÊNCIA DAS INFORMAÇÕES ADICIONADAS"
   ]
  },
  {
   "cell_type": "code",
   "execution_count": null,
   "id": "63f9e60f",
   "metadata": {},
   "outputs": [],
   "source": [
    "#ESSA ESTRUTURA DE REPETIÇÃO PARA CONFERIR OS COMPRIMENTOS DE ARCO E SE AS INFORMAÇÕES ADICIONADAS ANTERIORMENTE ESTÃO CONSISTENTES:\n",
    "\n",
    "list_len = [] #CRIANDO UMA LISTA EM BRANCO PARA RECEBER OS VALORES DE TRUE OU FALSE REFERENTE SE A QUANTIDADE DE RUAS PRESENTE NA LINHA DO SHP DOS GRAFOS É IGUAL A QUANTIDADE DE COMPRIMENTOS DE RUA\n",
    "\n",
    "list_comp = [] #CRIANDO UMA LISTA EM BRANCO PARA RECEBER OS VALORES DE TRUE OU FALSE REFERENTE SE A A SOMA DOS COMPRIMENTOS DE CADA RUA É IGUAL AO COMPRIMENTO TOTAL DA LINHA DO SHP DOS GRAFOS\n",
    "\n",
    "for id_i in range(1, id_max + 1): #ESTRUTURA DE REPETIÇÃO PARA PERCORRER DO ARCO 1 AO ARCO DE ID MAXIMO\n",
    "    \n",
    "    sql = f'select {atributo_dados}, {atributo_comp_grafo}, comp_via from \"{tabela_grafos}\" where id = {id_i}' #COMANDO EM SQL A SER EXECUTADO. SERÁ SELECIONADO AS INFORMAÇÕES DE COMPRIMENTO DE VIA, NOME DE RUAS E COMPRIMENTO DE CADA NOME DE RUA DO SHP DOS GRAFOS.\n",
    "\n",
    "    cur.execute(sql) #EXECUTANDO O COMANDO\n",
    "\n",
    "    dados_consultados = cur.fetchall() #RETORNANDO OS DADOS\n",
    "    \n",
    "    dados_nome = dados_consultados[0][0].split(';') #LISTA COM NOME DAS RUAS DO ARCO\n",
    "    \n",
    "    comp_dado = dados_consultados[0][1].split(';') #LISTA COM O COMPRIMENTO DE CADA RUA DA LISTA\n",
    "    \n",
    "    comp_total = round(dados_consultados[0][2], 4) #COMPRIMENTO TOTAL DO ARCO\n",
    "    \n",
    "    sum_comp = 0 #CRIANDO VARIAVEL PARA RECEBER A SOMA DE CADA COMPRIMENTO DE RUA\n",
    "    \n",
    "    for comp in comp_dado: #ADICIONANDO A VARIAVEL ANTERIOR A SOMA DOS COMPRIMENTOS DE RUA\n",
    "        sum_comp = sum_comp + float(comp)\n",
    "        \n",
    "    sum_comp = round(sum_comp, 4) #ARRENDONDANDO PARA 4 CASAS DECIMAIS A SOMA DAS RUAS\n",
    "    \n",
    "    len_id = len(dados_nome) == len(comp_dado) #A QUANTIDADE DE RUAS É IGUAL A QUANTIDADE DO COMPRIMENTO DESSAS RUAS?\n",
    "    \n",
    "    list_len.append(len_id) #ADICIONANDO A VARIAVEL ANTERIOR A LISTA\n",
    "    \n",
    "    comp_id = sum_comp == comp_total #A SOMA DO COMPRIMENTO DAS RUAS É IGUAL AO COMPRIMENTO DO ARCO?\n",
    "    \n",
    "    list_comp.append(comp_id) #ADICIONANDO A VARIAVEL ANTERIOR A LISTA      \n",
    "           \n",
    "    print(f'===---===---===\\nLinha de id {id_i}:\\n\\nTem a mesma quantidade de item em comp_ruas e nome_ruas?\\n{len_id}\\n\\nComprimento total é igual ao somatorio de cada rua?\\n{comp_id}\\n\\nSoma das ruas:{sum_comp}\\nComprimento total do arco: {comp_total}\\nDiferença: {comp_total - sum_comp}\\n===---===---===\\n') #MENSAGEM COM AS COMPARAÇÕES PARA CONFERIR A CONSISTENCIA ENTRE AS INFORMAÇÕES\n",
    "   "
   ]
  },
  {
   "cell_type": "code",
   "execution_count": null,
   "id": "13b8a3a1",
   "metadata": {},
   "outputs": [],
   "source": [
    "#QUANTIDADE DE FALSOS (QUANTIDADE DE ITENS)\n",
    "list_len.count(False)"
   ]
  },
  {
   "cell_type": "code",
   "execution_count": null,
   "id": "a71df299",
   "metadata": {},
   "outputs": [],
   "source": [
    "#QUANTIDADE DE FALTOS (SOMA DOS COMPRIMENTOS)\n",
    "list_comp.count(False)"
   ]
  },
  {
   "cell_type": "markdown",
   "id": "4350ecd7",
   "metadata": {},
   "source": [
    "### ATRIBUINDO O TIPO DA VIA DE ACORDO COM O PLANO DE MOBILIDADE PARA O BANCO DE DADOS DOS GRAFOS"
   ]
  },
  {
   "cell_type": "code",
   "execution_count": null,
   "id": "9f3e33ed",
   "metadata": {},
   "outputs": [],
   "source": [
    "#NOME DAS TABELAS E DOS ATRIBUTOS DA CONSULTA:\n",
    "tabela_grafos = 'vias_grafos' #NOME DE TABELA QUE CONTÉM O SHP DOS GRAFOS DA MALHA\n",
    "abr_grafos = 'vg' #ABREVIAÇÃO PARA A TABELA QUE CONTÉM O SHP DOS GRAFOS DA MALHA\n",
    "atributo_dados_grafo = 'tipo_pm' #NOME DA COLUNA (EM BRANCO) QUE SERÃO ADICIONADAS AS INFORMAÇÕES DE NOME DAS RUAS NA TABELA DO SHP DOS GRAFOS\n",
    "tabela_dados = 'vias_tipopm' #NOME DE TABELA QUE CONTÉM O SHP DOS NOMES DAS RUAS DA MALHA\n",
    "abr_dados = 'vpm' #ABREVIAÇÃO PARA A TABELA QUE CONTÉM O SHP DOS NOMES DAS RUAS DA MALHA\n",
    "atributo_dados = 'tipo_pm' #NOME DA COLUNA QUE CONTEM AS INFORMAÇÕES DOS NOMES DAS RUAS NA TABELA DO SHP DOS NOMES DAS RUAS DA MALHA\n",
    "atributo_comp_grafo = 'comp_tipo_pm' #NOME DA COLUNA QUE CONTEM AS INFORMAÇÕES DOS COMPRIMENTOS DOS NOMES DAS RUAS NA TABELA DO SHP DOS GRAFOS\n",
    "\n",
    "#ADICIONANDO O TIPO DA VIA DE ACORDO COM O PLANO DE MOBILIDADE DAS RUAS PARA CADA ID DA TABELA DOS GRAFOS DA MALHA\n",
    "\n",
    "for id_i in range(1, id_max + 1): #OS COMANDOS SERÃO EXECUTADOS DO GRAFO DE ID=1 ATÉ O ÚLTIMO GRAFO DA TABELA QUE POSSUI ID = ID_MAX\n",
    "      \n",
    "    sql = f'select {abr_dados}.{atributo_dados} from \"{tabela_dados}\" {abr_dados}, \"{tabela_grafos}\" {abr_grafos} where st_contains({abr_grafos}.geom, {abr_dados}.geom) and {abr_grafos}.id = {id_i} group by {abr_dados}.{atributo_dados}' #COMANDO EM SQL A SER EXECUTADO. SERÁ SELECIONADO O ATRIBUTOS INDICADO DA TABELA DOS SHP DOS ATRIBUTOS, ONDE A GEOMETRIA DOS ELEMENTOS DA TABELA DE ATRIBUTOS ESTÁ CONTIDA NA GEOMETRIA DA TABELA DO GRAFO, PARA O ID DO GRAFO EM ANÁLISE.\n",
    "\n",
    "    cur.execute(sql) #EXECUTANDO O COMANDO\n",
    "\n",
    "    dados_consultados = cur.fetchall() #RETORNANDO OS DADOS\n",
    "\n",
    "    lista_dados = [] #CRIANDO UMA LISTA VAZIA, NO QUAL OS DADOS CONSULTADOS SERÃO ADICIONADOS\n",
    "\n",
    "    for dado in dados_consultados: #ADICIONANDO OS RESULTADOS NA LISTA CRIADA\n",
    "        if dado[0] not in lista_dados:\n",
    "            lista_dados.append(dado[0])\n",
    "\n",
    "    lista_dados_str = '' #CRIANDO UMA VARIAVEL NO QUAL A LISTA DE DADOS SERÃO TRANSFORMADA EM UMA STRING DA SEGUINTE FORMA: ATRIBUTO_1; ATRIBUTO_2; ATRIBUTO_3; ... ; ATRIBUTO_n\n",
    "\n",
    "    for dado in lista_dados: #TRANSFORMANDO A LISTA DE DADOS PARA UMA STRING\n",
    "        if dado != lista_dados[len(lista_dados) - 1]:\n",
    "            lista_dados_str = lista_dados_str + dado + '; '\n",
    "        else:\n",
    "            lista_dados_str = lista_dados_str + dado\n",
    "\n",
    "    sql = f'select sum(st_length({abr_dados}.geom)) from {tabela_dados} {abr_dados}, {tabela_grafos} {abr_grafos} where st_contains({abr_grafos}.geom, {abr_dados}.geom) and {abr_grafos}.id = {id_i} group by {abr_dados}.{atributo_dados_grafo}' #COMANDO EM SQL A SER EXECUTADO. SERÁ SELECIONADO O COMPRIMENTO DE VIA DOATRIBUTOS INDICADO DA TABELA DOS SHP DOS ATRIBUTOS, ONDE A GEOMETRIA DOS ELEMENTOS DA TABELA DE ATRIBUTOS ESTÁ CONTIDA NA GEOMETRIA DA TABELA DO GRAFO, PARA O ID DO GRAFO EM ANÁLISE.\n",
    "\n",
    "    cur.execute(sql) #EXECUTANDO O COMANDO\n",
    "\n",
    "    dados_consultados = cur.fetchall() #RETORNANDO OS DADOS\n",
    "\n",
    "    lista_dados = [] #CRIANDO UMA LISTA VAZIA, NO QUAL OS DADOS CONSULTADOS SERÃO ADICIONADOS\n",
    "\n",
    "    for dado in dados_consultados: #ADICIONANDO OS RESULTADOS NA LISTA CRIADA\n",
    "        if dado[0] not in lista_dados:\n",
    "            lista_dados.append(dado[0])\n",
    "\n",
    "    lista_comp_str = '' #CRIANDO UMA VARIAVEL NO QUAL A LISTA DE DADOS DE COMPRIMENTOS SERÃO TRANSFORMADAS EM UMA STRING DA SEGUINTE FORMA: COMP_1; COMP_2; COMP_3; ... ; COMP_n\n",
    "\n",
    "    for dado in lista_dados: #TRANSFORMANDO A LISTA DE DADOS PARA UMA STRING\n",
    "        if dado != lista_dados[len(lista_dados) - 1]:\n",
    "            lista_comp_str = lista_comp_str + str(dado) + '; '\n",
    "        else:\n",
    "            lista_comp_str = lista_comp_str + str(dado)\n",
    "\n",
    "    #ATUALIZANDO A TABELA DO SHP DOS GRAFOS COM AS INFORMAÇÕES DOS ATRIBUTOS OBTIDOS:\n",
    "    \n",
    "    sql = f\"update {tabela_grafos} set {atributo_dados_grafo}='{lista_dados_str}' where id={id_i};\" #COMANDO EM SQL A SER EXECUTADO. SERÁ ATRIBUITO A TABELA DO SHP DOS GRAFOS A STRING ACIMA DE ACORDO COM O ID EM ANÁLISE.\n",
    "    cur.execute(sql) #EXECUTANDO O COMANDO\n",
    "    con.commit() #FINALIZANDO A EXECUÇÃO DO COMANDO\n",
    "    \n",
    "    print(f'ID: {id_i} {atributo_dados_grafo} OK!') #COMANDO DESNECESSÁRIO. APENAS INDICA A FINALIZAÇÃO DAS REPETIÇÕES.\n",
    "    \n",
    "    #ATUALIZANDO A TABELA DO SHP DOS GRAFOS COM AS INFORMAÇÕES DE COMP DE CADA ATRIBUTO:\n",
    "    \n",
    "    sql = f\"update {tabela_grafos} set {atributo_comp_grafo}='{lista_comp_str}' where id={id_i};\" #COMANDO EM SQL A SER EXECUTADO. SERÁ ATRIBUITO A TABELA DO SHP DOS GRAFOS A STRING ACIMA DE ACORDO COM O ID EM ANÁLISE.\n",
    "    cur.execute(sql) #EXECUTANDO O COMANDO\n",
    "    con.commit() #FINALIZANDO A EXECUÇÃO DO COMANDO\n",
    "\n",
    "    print(f'ID: {id_i} {atributo_comp_grafo} OK!') #COMANDO DESNECESSÁRIO. APENAS INDICA A FINALIZAÇÃO DAS REPETIÇÕES."
   ]
  },
  {
   "cell_type": "markdown",
   "id": "36b5092c",
   "metadata": {},
   "source": [
    "### CONFERINDO A CONSISTÊNCIA DAS INFORMAÇÕES ADICIONADAS "
   ]
  },
  {
   "cell_type": "code",
   "execution_count": null,
   "id": "3d6acc1d",
   "metadata": {},
   "outputs": [],
   "source": [
    "#ESSA ESTRUTURA DE REPETIÇÃO PARA CONFERIR OS COMPRIMENTOS DE ARCO E SE AS INFORMAÇÕES ADICIONADAS ANTERIORMENTE ESTÃO CONSISTENTES:\n",
    "\n",
    "list_len = [] #CRIANDO UMA LISTA EM BRANCO PARA RECEBER OS VALORES DE TRUE OU FALSE REFERENTE SE A QUANTIDADE DE RUAS PRESENTE NA LINHA DO SHP DOS GRAFOS É IGUAL A QUANTIDADE DE COMPRIMENTOS DE RUA\n",
    "\n",
    "list_comp = [] #CRIANDO UMA LISTA EM BRANCO PARA RECEBER OS VALORES DE TRUE OU FALSE REFERENTE SE A A SOMA DOS COMPRIMENTOS DE CADA RUA É IGUAL AO COMPRIMENTO TOTAL DA LINHA DO SHP DOS GRAFOS\n",
    "\n",
    "for id_i in range(1, id_max + 1): #ESTRUTURA DE REPETIÇÃO PARA PERCORRER DO ARCO 1 AO ARCO DE ID MAXIMO\n",
    "    \n",
    "    sql = f'select {atributo_dados}, {atributo_comp_grafo}, comp_via from \"{tabela_grafos}\" where id = {id_i}' #COMANDO EM SQL A SER EXECUTADO. SERÁ SELECIONADO AS INFORMAÇÕES DE COMPRIMENTO DE VIA, NOME DE RUAS E COMPRIMENTO DE CADA NOME DE RUA DO SHP DOS GRAFOS.\n",
    "\n",
    "    cur.execute(sql) #EXECUTANDO O COMANDO\n",
    "\n",
    "    dados_consultados = cur.fetchall() #RETORNANDO OS DADOS\n",
    "    \n",
    "    dados_nome = dados_consultados[0][0].split(';') #LISTA COM NOME DAS RUAS DO ARCO\n",
    "    \n",
    "    comp_dado = dados_consultados[0][1].split(';') #LISTA COM O COMPRIMENTO DE CADA RUA DA LISTA\n",
    "    \n",
    "    comp_total = round(dados_consultados[0][2], 4) #COMPRIMENTO TOTAL DO ARCO\n",
    "    \n",
    "    sum_comp = 0 #CRIANDO VARIAVEL PARA RECEBER A SOMA DE CADA COMPRIMENTO DE RUA\n",
    "    \n",
    "    for comp in comp_dado: #ADICIONANDO A VARIAVEL ANTERIOR A SOMA DOS COMPRIMENTOS DE RUA\n",
    "        sum_comp = sum_comp + float(comp)\n",
    "        \n",
    "    sum_comp = round(sum_comp, 4) #ARRENDONDANDO PARA 4 CASAS DECIMAIS A SOMA DAS RUAS\n",
    "    \n",
    "    len_id = len(dados_nome) == len(comp_dado) #A QUANTIDADE DE RUAS É IGUAL A QUANTIDADE DO COMPRIMENTO DESSAS RUAS?\n",
    "    \n",
    "    list_len.append(len_id) #ADICIONANDO A VARIAVEL ANTERIOR A LISTA\n",
    "    \n",
    "    comp_id = sum_comp == comp_total #A SOMA DO COMPRIMENTO DAS RUAS É IGUAL AO COMPRIMENTO DO ARCO?\n",
    "    \n",
    "    list_comp.append(comp_id) #ADICIONANDO A VARIAVEL ANTERIOR A LISTA      \n",
    "           \n",
    "    print(f'===---===---===\\nLinha de id {id_i}:\\n\\nTem a mesma quantidade de item em comp_tipo_pm e tipo_pm?\\n{len_id}\\n\\nComprimento total é igual ao somatorio de cada rua?\\n{comp_id}\\n\\nSoma das ruas:{sum_comp}\\nComprimento total do arco: {comp_total}\\nDiferença: {comp_total - sum_comp}\\n===---===---===\\n') #MENSAGEM COM AS COMPARAÇÕES PARA CONFERIR A CONSISTENCIA ENTRE AS INFORMAÇÕES\n",
    "   "
   ]
  },
  {
   "cell_type": "code",
   "execution_count": null,
   "id": "2e867c10",
   "metadata": {},
   "outputs": [],
   "source": [
    "#QUANTIDADE DE FALSOS (QUANTIDADE DE ITENS)\n",
    "list_len.count(False)"
   ]
  },
  {
   "cell_type": "code",
   "execution_count": null,
   "id": "f089a5b4",
   "metadata": {},
   "outputs": [],
   "source": [
    "#QUANTIDADE DE FALTOS (SOMA DOS COMPRIMENTOS)\n",
    "list_comp.count(False)"
   ]
  },
  {
   "cell_type": "markdown",
   "id": "46d4539d",
   "metadata": {},
   "source": [
    "### ATRIBUINDO O SENTIDO DA VIA PARA O BANCO DE DADOS DOS GRAFOS"
   ]
  },
  {
   "cell_type": "code",
   "execution_count": null,
   "id": "1d11e644",
   "metadata": {},
   "outputs": [],
   "source": [
    "#NOME DAS TABELAS E DOS ATRIBUTOS DA CONSULTA:\n",
    "tabela_grafos = 'vias_grafos' #NOME DE TABELA QUE CONTÉM O SHP DOS GRAFOS DA MALHA\n",
    "abr_grafos = 'vg' #ABREVIAÇÃO PARA A TABELA QUE CONTÉM O SHP DOS GRAFOS DA MALHA\n",
    "atributo_dados_grafo = 'oneway' #NOME DA COLUNA (EM BRANCO) QUE SERÃO ADICIONADAS AS INFORMAÇÕES DE NOME DAS RUAS NA TABELA DO SHP DOS GRAFOS\n",
    "tabela_dados = 'vias_oneway' #NOME DE TABELA QUE CONTÉM O SHP DOS NOMES DAS RUAS DA MALHA\n",
    "abr_dados = 'vow' #ABREVIAÇÃO PARA A TABELA QUE CONTÉM O SHP DOS NOMES DAS RUAS DA MALHA\n",
    "atributo_dados = 'oneway' #NOME DA COLUNA QUE CONTEM AS INFORMAÇÕES DOS NOMES DAS RUAS NA TABELA DO SHP DOS NOMES DAS RUAS DA MALHA\n",
    "\n",
    "#ADICIONANDO SENTIDO DAS RUAS PARA CADA ID DA TABELA DOS GRAFOS DA MALHA\n",
    "\n",
    "for id_i in range(1, id_max + 1): #OS COMANDOS SERÃO EXECUTADOS DO GRAFO DE ID=1 ATÉ O ÚLTIMO GRAFO DA TABELA QUE POSSUI ID = ID_MAX\n",
    "\n",
    "    sql = f'select {abr_dados}.{atributo_dados} from \"{tabela_dados}\" {abr_dados}, \"{tabela_grafos}\" {abr_grafos} where st_contains({abr_grafos}.geom, {abr_dados}.geom) and {abr_grafos}.id = {id_i}' #COMANDO EM SQL A SER EXECUTADO. SERÁ SELECIONADO O ATRIBUTOS INDICADO DA TABELA DOS SHP DOS ATRIBUTOS, ONDE A GEOMETRIA DOS ELEMENTOS DA TABELA DE ATRIBUTOS ESTÁ CONTIDA NA GEOMETRIA DA TABELA DO GRAFO, PARA O ID DO GRAFO EM ANÁLISE.\n",
    "    \n",
    "    cur.execute(sql) #EXECUTANDO O COMANDO\n",
    "    \n",
    "    dados_consultados = cur.fetchall() #RETORNANDO OS DADOS\n",
    "    \n",
    "    lista_dados = [] #CRIANDO UMA LISTA VAZIA, NO QUAL OS DADOS CONSULTADOS SERÃO ADICIONADOS\n",
    "    \n",
    "    for dado in dados_consultados: #ADICIONANDO OS RESULTADOS NA LISTA CRIADA\n",
    "        if dado[0] not in lista_dados:\n",
    "            lista_dados.append(dado[0])\n",
    "    \n",
    "    lista_dados_str = '' #CRIANDO UMA VARIAVEL NO QUAL A LISTA DE DADOS SERÃO TRANSFORMADA EM UMA STRING DA SEGUINTE FORMA: ATRIBUTO_1; ATRIBUTO_2; ATRIBUTO_3; ... ; ATRIBUTO_n\n",
    "    \n",
    "    for dado in lista_dados: #TRANSFORMANDO A LISTA DE DADOS PARA UMA STRING\n",
    "        if dado != lista_dados[len(lista_dados) - 1]:\n",
    "            lista_dados_str = lista_dados_str + dado + '; '\n",
    "        else:\n",
    "            lista_dados_str = lista_dados_str + dado\n",
    "\n",
    "    #ATUALIZANDO A TABELA DO SHP DOS GRAFOS COM AS INFORMAÇÕES DOS ATRIBUTOS OBTIDOS:\n",
    "    \n",
    "    sql = f\"update {tabela_grafos} set {atributo_dados_grafo}='{lista_dados_str}' where id={id_i};\" #COMANDO EM SQL A SER EXECUTADO. SERÁ ATRIBUITO A TABELA DO SHP DOS GRAFOS A STRING ACIMA DE ACORDO COM O ID EM ANÁLISE.\n",
    "    cur.execute(sql) #EXECUTANDO O COMANDO\n",
    "    con.commit() #FINALIZANDO A EXECUÇÃO DO COMANDO\n",
    "\n",
    "    print(f'ID: {id_i} {atributo_dados_grafo} OK!') #COMANDO DESNECESSÁRIO. APENAS INDICA A FINALIZAÇÃO DAS REPETIÇÕES.\n"
   ]
  },
  {
   "cell_type": "markdown",
   "id": "65bdd895",
   "metadata": {},
   "source": [
    "### FECHANDO O CURSOR E DESCONECTANDO AO BANCO DE DADOS "
   ]
  },
  {
   "cell_type": "code",
   "execution_count": null,
   "id": "590dd0c9",
   "metadata": {},
   "outputs": [],
   "source": [
    "cur.close()\n",
    "con.close()"
   ]
  }
 ],
 "metadata": {
  "kernelspec": {
   "display_name": "Python 3 (ipykernel)",
   "language": "python",
   "name": "python3"
  },
  "language_info": {
   "codemirror_mode": {
    "name": "ipython",
    "version": 3
   },
   "file_extension": ".py",
   "mimetype": "text/x-python",
   "name": "python",
   "nbconvert_exporter": "python",
   "pygments_lexer": "ipython3",
   "version": "3.10.1"
  }
 },
 "nbformat": 4,
 "nbformat_minor": 5
}
